{
  "cells": [
    {
      "cell_type": "markdown",
      "metadata": {
        "id": "RY918LWwJW36"
      },
      "source": [
        "## Load the IMDB dataset and create the vocabulary"
      ]
    },
    {
      "cell_type": "code",
      "execution_count": 1,
      "metadata": {
        "colab": {
          "base_uri": "https://localhost:8080/"
        },
        "id": "8evfgyuPJW3-",
        "outputId": "2a1e49b5-7332-419e-e6fd-680b89fc5c15"
      },
      "outputs": [
        {
          "name": "stderr",
          "output_type": "stream",
          "text": [
            "100%|██████████| 84.1M/84.1M [00:03<00:00, 24.8MB/s]\n"
          ]
        }
      ],
      "source": [
        "from torchtext.datasets import IMDB\n",
        "from torchtext.data.utils import get_tokenizer\n",
        "from collections import Counter, OrderedDict\n",
        "from torchtext.vocab import vocab\n",
        "\n",
        "EMBEDDING_DIM=50\n",
        "VOCAB_SIZE=20000\n",
        "\n",
        "# Get IMDB dataset\n",
        "imdb = IMDB(split='train')\n",
        "\n",
        "# Load English tokenizer, tagger, parser and NER\n",
        "tokenizer = get_tokenizer('spacy', language='en')\n",
        "\n",
        "# build the vocab\n",
        "counter = Counter()\n",
        "for i, (label, line) in enumerate(imdb):\n",
        "    counter.update(tokenizer(line))\n",
        "\n",
        "ordered_dict = OrderedDict(counter.most_common()[:VOCAB_SIZE])\n",
        "vocab = vocab(ordered_dict)\n",
        "\n",
        "# insert special tokens and set default index to 'unknown'\n",
        "vocab.insert_token('<PAD>', 0)\n",
        "vocab.insert_token('<UNK>', 1)\n",
        "vocab.set_default_index(1)"
      ]
    },
    {
      "cell_type": "markdown",
      "metadata": {
        "id": "yn3vKwI5JW4C"
      },
      "source": [
        "## Create embedding vectors from GloVe"
      ]
    },
    {
      "cell_type": "code",
      "execution_count": 2,
      "metadata": {
        "colab": {
          "base_uri": "https://localhost:8080/"
        },
        "id": "ep21YqM7JW4D",
        "outputId": "279163a2-f4d6-43de-9b27-c5ebb56c4a33"
      },
      "outputs": [
        {
          "name": "stderr",
          "output_type": "stream",
          "text": [
            ".vector_cache/glove.6B.zip: 862MB [02:46, 5.17MB/s]                           \n",
            "100%|█████████▉| 399999/400000 [00:14<00:00, 27182.81it/s]\n"
          ]
        }
      ],
      "source": [
        "import torchtext as text\n",
        "\n",
        "# load glove embeddings\n",
        "vec = text.vocab.GloVe(name='6B', dim=50)\n",
        "# create the embedding matrix, a torch tensor in the shape (num_words+1, embedding_dim)\n",
        "word_emb = vec.get_vecs_by_tokens(vocab.get_itos())"
      ]
    },
    {
      "cell_type": "markdown",
      "metadata": {
        "id": "13XKr4i4JW4E"
      },
      "source": [
        "## Build up train/test dataset"
      ]
    },
    {
      "cell_type": "code",
      "execution_count": 12,
      "metadata": {
        "id": "0o0kiz_gJW4E"
      },
      "outputs": [],
      "source": [
        "from torch.nn.utils.rnn import pad_sequence\n",
        "import torch\n",
        "from torch.utils.data import DataLoader\n",
        "from torchtext.data.functional import to_map_style_dataset\n",
        "\n",
        "device = torch.device(\"cuda\" if torch.cuda.is_available() else \"cpu\")\n",
        "# transform input text and label to ids\n",
        "def process_text(text):\n",
        "    return vocab(tokenizer(text))\n",
        "\n",
        "label_to_ids = {'pos':0, 'neg':1}\n",
        "\n",
        "def collate_batch(batch):\n",
        "    label_list, text_list, lengths = [], [], []\n",
        "    for (_label, _text) in batch:\n",
        "        label_list.append(label_to_ids[_label])\n",
        "        processed_text = torch.tensor(process_text(_text), dtype=torch.int64)\n",
        "        text_list.append(processed_text)\n",
        "        lengths.append(processed_text.size(0))\n",
        "    # label must be in the same size as target\n",
        "    label_list = torch.tensor(label_list, dtype=torch.float)[:,None]\n",
        "\n",
        "    text_list = pad_sequence(text_list, batch_first=True)\n",
        "    lengths = torch.tensor(lengths, dtype=torch.float)\n",
        "    return label_list.to(device), text_list.to(device), lengths.to(device)\n",
        "\n",
        "train_iter, test_iter = IMDB()\n",
        "\n",
        "# transform datasets iterator into map style so that they can be repeatedly loaded in a new epoch\n",
        "train_dataset = to_map_style_dataset(train_iter)\n",
        "test_dataset = to_map_style_dataset(test_iter)\n",
        "\n",
        "train_dataloader = DataLoader(train_dataset, batch_size=128,\n",
        "                              shuffle=True, collate_fn=collate_batch)\n",
        "test_dataloader = DataLoader(test_dataset, batch_size=128,\n",
        "                             shuffle=True, collate_fn=collate_batch)"
      ]
    },
    {
      "cell_type": "code",
      "execution_count": 17,
      "metadata": {
        "id": "Gy5199-MJW4F"
      },
      "outputs": [],
      "source": [
        "# logistic model\n",
        "import torch\n",
        "import torch.nn as nn\n",
        "import torch.nn.functional as F\n",
        "import time\n",
        "\n",
        "class LogisticRegression(nn.Module):\n",
        "    def __init__(self, word_vec, embed_dim):\n",
        "        super().__init__()\n",
        "        # embeddingbag outputs the average of all the words in a sentence\n",
        "        self.embedding = nn.Embedding(*(word_vec.size())).from_pretrained(word_vec, freeze=False)\n",
        "        self.fc = nn.Linear(embed_dim, 1)\n",
        "        self._init_weights()\n",
        "\n",
        "    def _init_weights(self):\n",
        "        \"\"\"Initialize network parameters \n",
        "        \"\"\"\n",
        "        initrange = 0.5\n",
        "        self.embedding.weight.data.uniform_(-initrange, initrange)\n",
        "        self.fc.weight.data.uniform_(-initrange, initrange)\n",
        "        self.fc.bias.data.zero_()\n",
        "\n",
        "    def forward(self, text, lengths):\n",
        "        embedded = self.embedding(text) # (batch_size, sent_len, emb_size)\n",
        "        embedded = embedded.sum(dim = 1) / lengths[:, None] # (add one axis)\n",
        "        return torch.sigmoid(self.fc(embedded))\n",
        "\n",
        "class LSTMcustom(nn.Module):\n",
        "    def __init__(self, word_vec, embed_dim):\n",
        "        super().__init__()\n",
        "        # embeddingbag outputs the average of all the words in a sentence\n",
        "        self.embedding = nn.Embedding(*(word_vec.size())).from_pretrained(word_vec, freeze=False)\n",
        "        # Initialize LSTM model. The arguments are in this order input_dim, hidden_dim, n_layers\n",
        "        \n",
        "        # LSTM\n",
        "        # 1 layer\n",
        "        # self.lstm = nn.LSTM(embed_dim, 200, 1, bidirectional=True, batch_first = True)\n",
        "        \n",
        "        # 2 layers\n",
        "        # self.lstm = nn.LSTM(embed_dim, 200, 2, bidirectional=True, batch_first = True)\n",
        "\n",
        "        # to run the RNN, to save trouble, let's use back the same name for variable\n",
        "        # 1 layer\n",
        "        self.lstm = nn.RNN(embed_dim, 200, 1, bidirectional=True, batch_first=True)\n",
        "        \n",
        "        # Q1: What should be the input dimension of this linear layer? #ANSWER: 200\n",
        "        self.fc = nn.Linear(200*2, 1)\n",
        "        \n",
        "        # Q2: set bidirectional = True in the LSTM and determine the input size of the FC layer\n",
        "        # ANSWER: input size of the FC layer is 400\n",
        "        \n",
        "    def forward(self, text, lengths):\n",
        "        embedded = self.embedding(text) # (batch_size, sent_len, emb_size)\n",
        "        lstm_out,_ = self.lstm(embedded) # lstm_out is a 3d tensor (batch_size, sent_len, output_size). If you have a bidirectional LSTM, the outputsize will be 2*output_size\n",
        "        \n",
        "        # Q3: Select the hidden output of the last element in the sequence. Hint: Remember that you padded the sequence and you already know the length of the sequence.\n",
        "        output_size = lstm_out.size()[2]\n",
        "        batch_size = lstm_out.size()[0]\n",
        "\n",
        "        c_length = lengths.cpu()\n",
        "\n",
        "        last_indices = torch.FloatTensor(c_length - 1).long()\n",
        "\n",
        "        last_indices_mod = last_indices.view(-1, 1, 1).expand(-1, 1, output_size).to(device)\n",
        "\n",
        "        rows = torch.arange(0, batch_size).long()\n",
        "        lstm_out = lstm_out[rows, last_indices, :]\n",
        "          \n",
        "        # Q4: Add multiple layers to the LSTM by passing argument num_layers=2,3,4 etc. to the LSTM function above. Test whether the performance improves. If not, explain what did you observe.\n",
        "        # self.lstm = nn.LSTM(embed_dim, 200, 2, bidirectional=True, batch_first = True)\n",
        "        # ANSWER:\n",
        "        # For num_layer = 1, batch size = 128, accuracy = 63.91%\n",
        "        # For num_layer = 1, batch size = 64, accuracy = 31.98%\n",
        "        # For num_layer = 2, batch size = 64, accuracy = 31.98%\n",
        "        # Due to limited CUDA memory, the batch size is lowered to 64. There is a huge decrease \n",
        "        # in terms of accuracy, most likely is caused by change of batch size\n",
        "        # However, number of layers doesnt affect the test accuracy judging from num_layer = 2 and 1\n",
        "        # yield the same accuracy for the same batch size\n",
        "        # Due to time constraint(took me 1 hr to run on num_layer=2), I wasnt able to run \n",
        "        # num_layer = 3 and 4. \n",
        "        \n",
        "        # Q5: Replace the LSTM layer with simple RNN layer and compare the performance between LSTM and RNN.\n",
        "        # rnn_out, _ = self.rnn(embedded)\n",
        "        # return torch.sigmoid(self.fc(rnn_out)) \n",
        "        \n",
        "        # ANSWER: \n",
        "        # For num_layer = 1, batch size = 128, accuracy = 63.91%\n",
        "        # As shown, the accuracy for RNN with the above parameters give the same result compared to LSTM.\n",
        "        # Although more combination of number of layers and batch size should be run, but we can infer \n",
        "        # that for simple RNN layer, both models will have similar or even same performance, and both relies\n",
        "        # on batch size.\n",
        "\n",
        "        return torch.sigmoid(self.fc(lstm_out))"
      ]
    },
    {
      "cell_type": "code",
      "execution_count": 18,
      "metadata": {
        "id": "x4dkmIzIJW4I"
      },
      "outputs": [],
      "source": [
        "import time\n",
        "\n",
        "def train(dataloader):\n",
        "    model.train()\n",
        "    total_acc, total_count = 0, 0\n",
        "    log_interval = 50\n",
        "    start_time = time.time()\n",
        "\n",
        "    for idx, (label, text, lengths) in enumerate(dataloader):\n",
        "        optimizer.zero_grad()\n",
        "        # forward propagation\n",
        "        predicted_label = model(text, lengths)\n",
        "        # calculate loss and backpropagate to model paramters\n",
        "        loss = criterion(predicted_label, label)\n",
        "        loss.backward()\n",
        "        torch.nn.utils.clip_grad_norm_(model.parameters(), 0.1)\n",
        "        # update parameters by stepping the optimizer\n",
        "        optimizer.step()\n",
        "        total_acc += ((predicted_label > 0.5) == label).sum().item()\n",
        "        total_count += label.size(0)\n",
        "        if idx % log_interval == 0 and idx > 0:\n",
        "            elapsed = time.time() - start_time\n",
        "            print('| epoch {:3d} | {:5d}/{:5d} batches '\n",
        "                  '| accuracy {:8.3f}'.format(epoch, idx, len(dataloader),\n",
        "                                              total_acc/total_count))\n",
        "            total_acc, total_count = 0, 0\n",
        "            start_time = time.time()\n",
        "\n",
        "def evaluate(dataloader):\n",
        "    model.eval()\n",
        "    total_acc, total_count = 0, 0\n",
        "\n",
        "    with torch.no_grad():\n",
        "        for idx, (label, text, lengths) in enumerate(dataloader):\n",
        "            predicted_label = model(text, lengths)\n",
        "            loss = criterion(predicted_label, label)\n",
        "            total_acc += (predicted_label.argmax(1) == label).sum().item()\n",
        "            total_count += label.size(0)\n",
        "    return total_acc/total_count"
      ]
    },
    {
      "cell_type": "code",
      "execution_count": 19,
      "metadata": {
        "colab": {
          "base_uri": "https://localhost:8080/"
        },
        "id": "x9KqttMEJW4K",
        "outputId": "18195ac2-564e-4253-f05e-67f5aba50629"
      },
      "outputs": [
        {
          "name": "stdout",
          "output_type": "stream",
          "text": [
            "| epoch   1 |    50/  196 batches | accuracy    0.527\n",
            "| epoch   1 |   100/  196 batches | accuracy    0.533\n",
            "| epoch   1 |   150/  196 batches | accuracy    0.523\n",
            "| epoch   2 |    50/  196 batches | accuracy    0.521\n",
            "| epoch   2 |   100/  196 batches | accuracy    0.523\n",
            "| epoch   2 |   150/  196 batches | accuracy    0.542\n",
            "| epoch   3 |    50/  196 batches | accuracy    0.534\n",
            "| epoch   3 |   100/  196 batches | accuracy    0.533\n",
            "| epoch   3 |   150/  196 batches | accuracy    0.526\n",
            "| epoch   4 |    50/  196 batches | accuracy    0.534\n",
            "| epoch   4 |   100/  196 batches | accuracy    0.533\n",
            "| epoch   4 |   150/  196 batches | accuracy    0.550\n",
            "| epoch   5 |    50/  196 batches | accuracy    0.531\n",
            "| epoch   5 |   100/  196 batches | accuracy    0.542\n",
            "| epoch   5 |   150/  196 batches | accuracy    0.528\n",
            "| epoch   6 |    50/  196 batches | accuracy    0.539\n",
            "| epoch   6 |   100/  196 batches | accuracy    0.534\n",
            "| epoch   6 |   150/  196 batches | accuracy    0.536\n",
            "| epoch   7 |    50/  196 batches | accuracy    0.544\n",
            "| epoch   7 |   100/  196 batches | accuracy    0.520\n",
            "| epoch   7 |   150/  196 batches | accuracy    0.540\n",
            "| epoch   8 |    50/  196 batches | accuracy    0.534\n",
            "| epoch   8 |   100/  196 batches | accuracy    0.540\n",
            "| epoch   8 |   150/  196 batches | accuracy    0.532\n",
            "| epoch   9 |    50/  196 batches | accuracy    0.535\n",
            "| epoch   9 |   100/  196 batches | accuracy    0.526\n",
            "| epoch   9 |   150/  196 batches | accuracy    0.537\n",
            "| epoch  10 |    50/  196 batches | accuracy    0.530\n",
            "| epoch  10 |   100/  196 batches | accuracy    0.529\n",
            "| epoch  10 |   150/  196 batches | accuracy    0.542\n"
          ]
        }
      ],
      "source": [
        "# Hyperparameters\n",
        "EPOCHS = 10 # epoch\n",
        "\n",
        "model = LSTMcustom(word_vec=word_emb, embed_dim=EMBEDDING_DIM).to(device)\n",
        "optimizer = torch.optim.SGD(model.parameters(), lr=0.001)\n",
        "criterion = torch.nn.BCELoss()\n",
        "total_accu = None\n",
        "\n",
        "\n",
        "for epoch in range(1, EPOCHS + 1):\n",
        "    epoch_start_time = time.time()\n",
        "    train(train_dataloader)"
      ]
    },
    {
      "cell_type": "code",
      "execution_count": 20,
      "metadata": {
        "colab": {
          "base_uri": "https://localhost:8080/"
        },
        "id": "AOPVodH2JW4L",
        "outputId": "c6fd2895-958e-4b52-a15f-4c9653d8ad6d"
      },
      "outputs": [
        {
          "name": "stdout",
          "output_type": "stream",
          "text": [
            "test accuracy    63.91%\n"
          ]
        }
      ],
      "source": [
        "accu_test = evaluate(test_dataloader)\n",
        "print('test accuracy {:8.2f}%'.format(accu_test))"
      ]
    }
  ],
  "metadata": {
    "accelerator": "GPU",
    "colab": {
      "collapsed_sections": [],
      "name": "1004365 Lee Jet Xuen Week 10 Lab.ipynb",
      "provenance": []
    },
    "interpreter": {
      "hash": "f98d74dfb5b1c8d8a210bfbef9987017a0fff68a56687bafce354ff2c11e0f6f"
    },
    "kernelspec": {
      "display_name": "Python 3",
      "language": "python",
      "name": "python3"
    },
    "language_info": {
      "codemirror_mode": {
        "name": "ipython",
        "version": 3
      },
      "file_extension": ".py",
      "mimetype": "text/x-python",
      "name": "python",
      "nbconvert_exporter": "python",
      "pygments_lexer": "ipython3",
      "version": "3.7.6"
    }
  },
  "nbformat": 4,
  "nbformat_minor": 0
}

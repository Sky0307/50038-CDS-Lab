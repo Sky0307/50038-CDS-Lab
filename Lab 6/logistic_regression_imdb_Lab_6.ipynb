{
 "cells": [
  {
   "cell_type": "markdown",
   "metadata": {},
   "source": [
    "## Load the IMDB dataset and create the vocabulary"
   ]
  },
  {
   "cell_type": "code",
   "execution_count": 84,
   "metadata": {},
   "outputs": [],
   "source": [
    "from torchtext.datasets import IMDB\n",
    "from torchtext.data.utils import get_tokenizer\n",
    "from collections import Counter, OrderedDict\n",
    "from torchtext.vocab import vocab\n",
    "\n",
    "EMBEDDING_DIM=50\n",
    "VOCAB_SIZE=20000\n",
    "\n",
    "# Get IMDB dataset\n",
    "imdb = IMDB(split='train')\n",
    "\n",
    "# Load English tokenizer, tagger, parser and NER\n",
    "tokenizer = get_tokenizer('spacy', language='en')\n",
    "\n",
    "# build the vocab\n",
    "counter = Counter()\n",
    "for i, (label, line) in enumerate(imdb):\n",
    "    counter.update(tokenizer(line))\n",
    "\n",
    "ordered_dict = OrderedDict(counter.most_common()[:VOCAB_SIZE])\n",
    "vocab = vocab(ordered_dict)\n",
    "\n",
    "# insert special tokens and set default index to 'unknown'\n",
    "vocab.insert_token('<PAD>', 0)\n",
    "vocab.insert_token('<UNK>', 1)\n",
    "vocab.set_default_index(1)"
   ]
  },
  {
   "cell_type": "markdown",
   "metadata": {},
   "source": [
    "## Create embedding vectors from GloVe"
   ]
  },
  {
   "cell_type": "code",
   "execution_count": 85,
   "metadata": {},
   "outputs": [],
   "source": [
    "import torchtext as text\n",
    "\n",
    "# load glove embeddings\n",
    "vec = text.vocab.GloVe(name='6B', dim=50)\n",
    "# create the embedding matrix, a torch tensor in the shape (num_words+1, embedding_dim)\n",
    "word_emb = vec.get_vecs_by_tokens(vocab.get_itos())"
   ]
  },
  {
   "cell_type": "markdown",
   "metadata": {},
   "source": [
    "## Build up train/test dataset"
   ]
  },
  {
   "cell_type": "code",
   "execution_count": 113,
   "metadata": {},
   "outputs": [],
   "source": [
    "from torch.utils.data import DataLoader\n",
    "from torchtext.data.functional import to_map_style_dataset\n",
    "\n",
    "device = torch.device(\"cuda\" if torch.cuda.is_available() else \"cpu\")\n",
    "\n",
    "# transform input text and label to ids\n",
    "def process_text(text):\n",
    "    return vocab(tokenizer(text))\n",
    "\n",
    "label_to_ids = {'pos':0, 'neg':1}\n",
    "\n",
    "# preprocess a batch of raw data (string-like text/labels) into tensors\n",
    "def collate_batch(batch):\n",
    "    label_list, text_list, offsets = [], [], [0]\n",
    "    for (_label, _text) in batch:\n",
    "        label_list.append(label_to_ids[_label])\n",
    "        processed_text = torch.tensor(process_text(_text), dtype=torch.int64)\n",
    "        text_list.append(processed_text)\n",
    "        offsets.append(processed_text.size(0))\n",
    "    # label must be in the same size as target\n",
    "    label_list = torch.tensor(label_list, dtype=torch.float)[:,None]\n",
    "    offsets = torch.tensor(offsets[:-1]).cumsum(dim=0)\n",
    "    text_list = torch.cat(text_list)\n",
    "    return label_list.to(device), text_list.to(device), offsets.to(device)\n",
    "\n",
    "train_iter, test_iter = IMDB()\n",
    "\n",
    "# transform datasets iterator into map style so that they can be repeatedly loaded in a new epoch\n",
    "train_dataset = to_map_style_dataset(train_iter)\n",
    "test_dataset = to_map_style_dataset(test_iter)\n",
    "\n",
    "train_dataloader = DataLoader(train_dataset, batch_size=128,\n",
    "                              shuffle=True, collate_fn=collate_batch)\n",
    "test_dataloader = DataLoader(test_dataset, batch_size=128,\n",
    "                             shuffle=True, collate_fn=collate_batch)\n",
    "# Question 1\n",
    "val_dataloader = ? # Write a validation dataloader by spliting the training data"
   ]
  },
  {
   "cell_type": "markdown",
   "metadata": {},
   "source": [
    "## Define the logistic regression model"
   ]
  },
  {
   "cell_type": "code",
   "execution_count": 1,
   "metadata": {},
   "outputs": [],
   "source": [
    "# logistic model\n",
    "import torch\n",
    "import torch.nn as nn\n",
    "import torch.nn.functional as F\n",
    "\n",
    "class LogisticRegression(nn.Module):\n",
    "    def __init__(self, word_vec, embed_dim):\n",
    "        super().__init__()\n",
    "        # embeddingbag outputs the average of all the words in a sentence\n",
    "        \n",
    "        # Question 2 : Replace the EmbeddingBag using PyTorch builtin functions that does the same job of computing sentence representation by taking average of the word embeddings.\n",
    "\n",
    "        self.embedding = nn.EmbeddingBag(*(word_vec.size())).from_pretrained(word_vec, freeze=False)\n",
    "                \n",
    "        # Question 3 : Write a Fully Connected Layer (FC layer) with output size of 100 followed by a non-linear activation e.g., ReLU\n",
    "        self.fc = nn.Linear(embed_dim, 1)\n",
    "        self._init_weights()\n",
    "\n",
    "    def _init_weights(self):\n",
    "        \"\"\"Initialize network parameters \n",
    "        \"\"\"\n",
    "        initrange = 0.5\n",
    "        self.embedding.weight.data.uniform_(-initrange, initrange)\n",
    "        self.fc.weight.data.uniform_(-initrange, initrange)\n",
    "        self.fc.bias.data.zero_()\n",
    "\n",
    "    def forward(self, text, offsets):\n",
    "        embedded = self.embedding(text, offsets)\n",
    "        \n",
    "        # Question 4: Use the new model you define in __init__()\n",
    "        return torch.sigmoid(self.fc(embedded))"
   ]
  },
  {
   "cell_type": "markdown",
   "metadata": {},
   "source": [
    "## Define train and test function"
   ]
  },
  {
   "cell_type": "code",
   "execution_count": 115,
   "metadata": {},
   "outputs": [],
   "source": [
    "import time\n",
    "\n",
    "def train(dataloader):\n",
    "    model.train()\n",
    "    total_acc, total_count = 0, 0\n",
    "    log_interval = 50\n",
    "    start_time = time.time()\n",
    "\n",
    "    for idx, (label, text, offsets) in enumerate(dataloader):\n",
    "        optimizer.zero_grad()\n",
    "        # forward propagation\n",
    "        predicted_label = model(text, offsets)\n",
    "        # calculate loss and backpropagate to model paramters\n",
    "        loss = criterion(predicted_label, label)\n",
    "        loss.backward()\n",
    "        torch.nn.utils.clip_grad_norm_(model.parameters(), 0.1)\n",
    "        # update parameters by stepping the optimizer\n",
    "        optimizer.step()\n",
    "        total_acc += ((predicted_label > 0.5) == label).sum().item()\n",
    "        total_count += label.size(0)\n",
    "        if idx % log_interval == 0 and idx > 0:\n",
    "            elapsed = time.time() - start_time\n",
    "            print('| epoch {:3d} | {:5d}/{:5d} batches '\n",
    "                  '| accuracy {:8.3f}'.format(epoch, idx, len(dataloader),\n",
    "                                              total_acc/total_count))\n",
    "            total_acc, total_count = 0, 0\n",
    "            start_time = time.time()\n",
    "\n",
    "def evaluate(dataloader):\n",
    "    model.eval()\n",
    "    total_acc, total_count = 0, 0\n",
    "\n",
    "    with torch.no_grad():\n",
    "        for idx, (label, text, offsets) in enumerate(dataloader):\n",
    "            predicted_label = model(text, offsets)\n",
    "            loss = criterion(predicted_label, label)\n",
    "            total_acc += (predicted_label.argmax(1) == label).sum().item()\n",
    "            total_count += label.size(0)\n",
    "    return total_acc/total_count"
   ]
  },
  {
   "cell_type": "markdown",
   "metadata": {},
   "source": [
    "## Train and evaluate the model for several epochs"
   ]
  },
  {
   "cell_type": "code",
   "execution_count": 116,
   "metadata": {},
   "outputs": [
    {
     "name": "stdout",
     "output_type": "stream",
     "text": [
      "| epoch   1 |    50/  196 batches | accuracy    0.506\n",
      "| epoch   1 |   100/  196 batches | accuracy    0.485\n",
      "| epoch   1 |   150/  196 batches | accuracy    0.497\n",
      "| epoch   2 |    50/  196 batches | accuracy    0.501\n",
      "| epoch   2 |   100/  196 batches | accuracy    0.496\n",
      "| epoch   2 |   150/  196 batches | accuracy    0.486\n",
      "| epoch   3 |    50/  196 batches | accuracy    0.495\n",
      "| epoch   3 |   100/  196 batches | accuracy    0.495\n",
      "| epoch   3 |   150/  196 batches | accuracy    0.492\n",
      "| epoch   4 |    50/  196 batches | accuracy    0.490\n",
      "| epoch   4 |   100/  196 batches | accuracy    0.500\n",
      "| epoch   4 |   150/  196 batches | accuracy    0.496\n",
      "| epoch   5 |    50/  196 batches | accuracy    0.503\n",
      "| epoch   5 |   100/  196 batches | accuracy    0.489\n",
      "| epoch   5 |   150/  196 batches | accuracy    0.492\n",
      "| epoch   6 |    50/  196 batches | accuracy    0.489\n",
      "| epoch   6 |   100/  196 batches | accuracy    0.497\n",
      "| epoch   6 |   150/  196 batches | accuracy    0.500\n",
      "| epoch   7 |    50/  196 batches | accuracy    0.489\n",
      "| epoch   7 |   100/  196 batches | accuracy    0.490\n",
      "| epoch   7 |   150/  196 batches | accuracy    0.491\n",
      "| epoch   8 |    50/  196 batches | accuracy    0.478\n",
      "| epoch   8 |   100/  196 batches | accuracy    0.501\n",
      "| epoch   8 |   150/  196 batches | accuracy    0.498\n",
      "| epoch   9 |    50/  196 batches | accuracy    0.481\n",
      "| epoch   9 |   100/  196 batches | accuracy    0.494\n",
      "| epoch   9 |   150/  196 batches | accuracy    0.486\n",
      "| epoch  10 |    50/  196 batches | accuracy    0.489\n",
      "| epoch  10 |   100/  196 batches | accuracy    0.489\n",
      "| epoch  10 |   150/  196 batches | accuracy    0.484\n"
     ]
    }
   ],
   "source": [
    "# Hyperparameters\n",
    "EPOCHS = 30 # epoch\n",
    "\n",
    "model = LogisticRegression(word_vec=word_emb, embed_dim=EMBEDDING_DIM).to(device)\n",
    "optimizer = torch.optim.SGD(model.parameters(), lr=0.001)\n",
    "criterion = torch.nn.BCELoss()\n",
    "total_accu = None\n",
    "\n",
    "\n",
    "for epoch in range(1, EPOCHS + 1):\n",
    "    epoch_start_time = time.time()\n",
    "    train(train_dataloader)\n",
    "    \n",
    "    # Question 5: Use your validation set to early stop the model. Remember to early stop when the validation accuracy does not improve for continous N number of epochs where N is a hyperparameter. Set N = 10"
   ]
  },
  {
   "cell_type": "code",
   "execution_count": 118,
   "metadata": {},
   "outputs": [
    {
     "name": "stdout",
     "output_type": "stream",
     "text": [
      "test accuracy    63.94%\n"
     ]
    }
   ],
   "source": [
    "accu_test = evaluate(test_dataloader)\n",
    "print('test accuracy {:8.2f}%'.format(accu_test))"
   ]
  }
 ],
 "metadata": {
  "interpreter": {
   "hash": "64c7587c57fab0328c0f08a8fa64e3e786b56407a0ea30be36fecc0cd89940e6"
  },
  "kernelspec": {
   "display_name": "Python 3",
   "language": "python",
   "name": "python3"
  },
  "language_info": {
   "codemirror_mode": {
    "name": "ipython",
    "version": 3
   },
   "file_extension": ".py",
   "mimetype": "text/x-python",
   "name": "python",
   "nbconvert_exporter": "python",
   "pygments_lexer": "ipython3",
   "version": "3.7.6"
  }
 },
 "nbformat": 4,
 "nbformat_minor": 2
}

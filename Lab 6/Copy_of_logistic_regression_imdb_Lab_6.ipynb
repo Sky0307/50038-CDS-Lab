{
  "nbformat": 4,
  "nbformat_minor": 0,
  "metadata": {
    "interpreter": {
      "hash": "64c7587c57fab0328c0f08a8fa64e3e786b56407a0ea30be36fecc0cd89940e6"
    },
    "kernelspec": {
      "display_name": "Python 3",
      "language": "python",
      "name": "python3"
    },
    "language_info": {
      "codemirror_mode": {
        "name": "ipython",
        "version": 3
      },
      "file_extension": ".py",
      "mimetype": "text/x-python",
      "name": "python",
      "nbconvert_exporter": "python",
      "pygments_lexer": "ipython3",
      "version": "3.7.6"
    },
    "colab": {
      "name": "Copy of logistic_regression_imdb_Lab_6.ipynb",
      "provenance": []
    }
  },
  "cells": [
    {
      "cell_type": "markdown",
      "metadata": {
        "id": "qqozbPY8NCtR"
      },
      "source": [
        "## Load the IMDB dataset and create the vocabulary"
      ]
    },
    {
      "cell_type": "code",
      "metadata": {
        "colab": {
          "base_uri": "https://localhost:8080/"
        },
        "id": "uaFfGDsJNCtV",
        "outputId": "fbfd8d88-a74e-4635-d520-79ebcea29106"
      },
      "source": [
        "from torchtext.datasets import IMDB\n",
        "from torchtext.data.utils import get_tokenizer\n",
        "from collections import Counter, OrderedDict\n",
        "from torchtext.vocab import vocab\n",
        "\n",
        "EMBEDDING_DIM=50\n",
        "VOCAB_SIZE=20000\n",
        "\n",
        "# Get IMDB dataset\n",
        "imdb = IMDB(split='train')\n",
        "\n",
        "# Load English tokenizer, tagger, parser and NER\n",
        "tokenizer = get_tokenizer('spacy', language='en')\n",
        "\n",
        "# build the vocab\n",
        "counter = Counter()\n",
        "for i, (label, line) in enumerate(imdb):\n",
        "    counter.update(tokenizer(line))\n",
        "\n",
        "ordered_dict = OrderedDict(counter.most_common()[:VOCAB_SIZE])\n",
        "vocab = vocab(ordered_dict)\n",
        "\n",
        "# insert special tokens and set default index to 'unknown'\n",
        "vocab.insert_token('<PAD>', 0)\n",
        "vocab.insert_token('<UNK>', 1)\n",
        "vocab.set_default_index(1)"
      ],
      "execution_count": 1,
      "outputs": [
        {
          "output_type": "stream",
          "name": "stderr",
          "text": [
            "aclImdb_v1.tar.gz: 100%|██████████| 84.1M/84.1M [00:03<00:00, 25.8MB/s]\n"
          ]
        }
      ]
    },
    {
      "cell_type": "markdown",
      "metadata": {
        "id": "RX_oiA5nNCtW"
      },
      "source": [
        "## Create embedding vectors from GloVe"
      ]
    },
    {
      "cell_type": "code",
      "metadata": {
        "colab": {
          "base_uri": "https://localhost:8080/"
        },
        "id": "hm5BYWCxNCtX",
        "outputId": "b402825b-68ea-46e2-b9d2-5474849e41be"
      },
      "source": [
        "import torchtext as text\n",
        "\n",
        "# load glove embeddings\n",
        "vec = text.vocab.GloVe(name='6B', dim=50)\n",
        "# create the embedding matrix, a torch tensor in the shape (num_words+1, embedding_dim)\n",
        "word_emb = vec.get_vecs_by_tokens(vocab.get_itos())"
      ],
      "execution_count": 2,
      "outputs": [
        {
          "output_type": "stream",
          "name": "stderr",
          "text": [
            ".vector_cache/glove.6B.zip: 862MB [02:41, 5.35MB/s]                           \n",
            "100%|█████████▉| 399999/400000 [00:10<00:00, 39691.91it/s]\n"
          ]
        }
      ]
    },
    {
      "cell_type": "markdown",
      "metadata": {
        "id": "Gf5W-w0uNCtX"
      },
      "source": [
        "## Build up train/test dataset"
      ]
    },
    {
      "cell_type": "code",
      "metadata": {
        "id": "6zP9-rtFNCtX"
      },
      "source": [
        "from torch.utils.data import DataLoader\n",
        "from torchtext.data.functional import to_map_style_dataset\n",
        "from sklearn.model_selection import train_test_split\n",
        "import torch\n",
        "\n",
        "device = torch.device(\"cuda\" if torch.cuda.is_available() else \"cpu\")\n",
        "\n",
        "# transform input text and label to ids\n",
        "def process_text(text):\n",
        "    return vocab(tokenizer(text))\n",
        "\n",
        "label_to_ids = {'pos':0, 'neg':1}\n",
        "\n",
        "# preprocess a batch of raw data (string-like text/labels) into tensors\n",
        "def collate_batch(batch):\n",
        "    label_list, text_list, offsets = [], [], [0]\n",
        "    for (_label, _text) in batch:\n",
        "        label_list.append(label_to_ids[_label])\n",
        "        processed_text = torch.tensor(process_text(_text), dtype=torch.int64)\n",
        "        text_list.append(processed_text)\n",
        "        offsets.append(processed_text.size(0))\n",
        "    # label must be in the same size as target\n",
        "    label_list = torch.tensor(label_list, dtype=torch.float)[:,None]\n",
        "    offsets = torch.tensor(offsets[:-1]).cumsum(dim=0)\n",
        "    text_list = torch.cat(text_list)\n",
        "    return label_list.to(device), text_list.to(device), offsets.to(device)\n",
        "\n",
        "train_iter, test_iter= IMDB()\n",
        "\n",
        "# transform datasets iterator into map style so that they can be repeatedly loaded in a new epoch\n",
        "train_dataset = to_map_style_dataset(train_iter)\n",
        "test_dataset = to_map_style_dataset(test_iter)\n",
        "\n",
        "# further Splitting the val_dataset from the training dataset into 75% -> val_dataset ; 25% -> train dataset\n",
        "val_dataset, test_dataset = train_test_split(test_dataset, test_size=0.25, random_state=99)\n",
        "\n",
        "train_dataloader = DataLoader(train_dataset, batch_size=128,\n",
        "                              shuffle=True, collate_fn=collate_batch)\n",
        "test_dataloader = DataLoader(test_dataset, batch_size=128,\n",
        "                             shuffle=True, collate_fn=collate_batch)\n",
        "\n",
        "# Question 1 # Write a validation dataloader by spliting the training data\n",
        "val_dataloader =  DataLoader(val_dataset, batch_size=128,\n",
        "                             shuffle=True, collate_fn=collate_batch) "
      ],
      "execution_count": 7,
      "outputs": []
    },
    {
      "cell_type": "code",
      "metadata": {
        "colab": {
          "base_uri": "https://localhost:8080/"
        },
        "id": "BdeaBc8rzB0m",
        "outputId": "4593a923-28ed-4894-816f-80aba3f7696a"
      },
      "source": [
        "print(len(train_dataset))\n",
        "print(len(test_dataset))\n",
        "print(len(val_dataset))"
      ],
      "execution_count": 8,
      "outputs": [
        {
          "output_type": "stream",
          "name": "stdout",
          "text": [
            "25000\n",
            "6250\n",
            "18750\n"
          ]
        }
      ]
    },
    {
      "cell_type": "markdown",
      "metadata": {
        "id": "YDvew0Q5NCtY"
      },
      "source": [
        "## Define the logistic regression model"
      ]
    },
    {
      "cell_type": "code",
      "metadata": {
        "id": "wpBlmmE8NCtZ"
      },
      "source": [
        "# logistic model\n",
        "import torch\n",
        "import torch.nn as nn\n",
        "import torch.nn.functional as F\n",
        "\n",
        "class LogisticRegression(nn.Module):\n",
        "    def __init__(self, word_vec, embed_dim):\n",
        "        super().__init__()\n",
        "        # embeddingbag outputs the average of all the words in a sentence\n",
        "        \n",
        "        # Question 2 : Replace the EmbeddingBag using PyTorch builtin functions that does the same job of computing sentence representation by taking average of the word embeddings.\n",
        "        self.embedding = nn.EmbeddingBag(num_embeddings = len(vocab), \n",
        "                                         embedding_dim = embed_dim, \n",
        "                                         padding_idx = 0).from_pretrained(word_vec, freeze=False)\n",
        "        #self.embedding = nn.EmbeddingBag(*(word_vec.size())).from_pretrained(word_vec, freeze=False)\n",
        "                \n",
        "        # Question 3 : Write a Fully Connected Layer (FC layer) with output size of 100 followed by a non-linear activation e.g., ReLU\n",
        "        self.relu = torch.nn.ReLU()\n",
        "        self.fc1 = nn.Linear(embed_dim, 100)\n",
        "\n",
        "        self.fc2 = nn.Linear(100, 1)\n",
        "        self._init_weights()\n",
        "\n",
        "    def _init_weights(self):\n",
        "        \"\"\"Initialize network parameters \n",
        "        \"\"\"\n",
        "        initrange = 0.5\n",
        "        self.embedding.weight.data.uniform_(-initrange, initrange)\n",
        "        self.fc1.weight.data.uniform_(-initrange, initrange)\n",
        "        self.fc2.weight.data.uniform_(-initrange, initrange)\n",
        "        self.fc1.bias.data.zero_()\n",
        "        self.fc2.bias.data.zero_()\n",
        "\n",
        "    def forward(self, text, offsets):\n",
        "        embedded = self.embedding(text, offsets)\n",
        "        \n",
        "        # Question 4: Use the new model you define in __init__()\n",
        "        # embed = self.embedding(text)\n",
        "        # fc = self.fc1(embed)\n",
        "        # reLU = self.relu(fc)\n",
        "        # x = self.fc2(reLU)\n",
        "\n",
        "        # return torch.sigmoid(x)\n",
        "        return torch.sigmoid(self.fc2(self.relu(self.fc1(embedded))))"
      ],
      "execution_count": 18,
      "outputs": []
    },
    {
      "cell_type": "markdown",
      "metadata": {
        "id": "NvmvdkBnNCta"
      },
      "source": [
        "## Define train and test function"
      ]
    },
    {
      "cell_type": "code",
      "metadata": {
        "id": "jhb92t22NCta"
      },
      "source": [
        "import time\n",
        "\n",
        "def train(dataloader):\n",
        "    model.train()\n",
        "    total_acc, total_count = 0, 0\n",
        "    log_interval = 50\n",
        "    start_time = time.time()\n",
        "\n",
        "    for idx, (label, text, offsets) in enumerate(dataloader):\n",
        "        optimizer.zero_grad()\n",
        "        # forward propagation\n",
        "        predicted_label = model(text, offsets)\n",
        "        # calculate loss and backpropagate to model paramters\n",
        "        loss = criterion(predicted_label, label)\n",
        "        loss.backward()\n",
        "        torch.nn.utils.clip_grad_norm_(model.parameters(), 0.1)\n",
        "        # update parameters by stepping the optimizer\n",
        "        optimizer.step()\n",
        "        total_acc += ((predicted_label > 0.5) == label).sum().item()\n",
        "        total_count += label.size(0)\n",
        "        if idx % log_interval == 0 and idx > 0:\n",
        "            elapsed = time.time() - start_time\n",
        "            print('| epoch {:3d} | {:5d}/{:5d} batches '\n",
        "                  '| accuracy {:8.3f}'.format(epoch, idx, len(dataloader),\n",
        "                                              total_acc/total_count))\n",
        "            total_acc, total_count = 0, 0\n",
        "            start_time = time.time()\n",
        "\n",
        "def evaluate(dataloader):\n",
        "    model.eval()\n",
        "    total_acc, total_count = 0, 0\n",
        "\n",
        "    with torch.no_grad():\n",
        "        for idx, (label, text, offsets) in enumerate(dataloader):\n",
        "            predicted_label = model(text, offsets)\n",
        "            loss = criterion(predicted_label, label)\n",
        "            total_acc += (predicted_label.argmax(1) == label).sum().item()\n",
        "            total_count += label.size(0)\n",
        "    return total_acc/total_count"
      ],
      "execution_count": 19,
      "outputs": []
    },
    {
      "cell_type": "markdown",
      "metadata": {
        "id": "re3lp19NNCtb"
      },
      "source": [
        "## Train and evaluate the model for several epochs"
      ]
    },
    {
      "cell_type": "code",
      "metadata": {
        "id": "hyFSMRZ8NCtb",
        "colab": {
          "base_uri": "https://localhost:8080/"
        },
        "outputId": "7328bc43-9524-409a-a484-1efbb71f37f1"
      },
      "source": [
        "# Hyperparameters\n",
        "EPOCHS = 30 # epoch\n",
        "\n",
        "model = LogisticRegression(word_vec=word_emb, embed_dim=EMBEDDING_DIM).to(device)\n",
        "optimizer = torch.optim.Adam(model.parameters(), lr=0.00005)\n",
        "criterion = torch.nn.BCELoss()\n",
        "total_accu = None\n",
        "\n",
        "counter = 0\n",
        "N = 10\n",
        "ACC = -1\n",
        "\n",
        "for epoch in range(1, EPOCHS + 1):\n",
        "    epoch_start_time = time.time()\n",
        "    train(train_dataloader)\n",
        "    \n",
        "    # Question 5: Use your validation set to early stop the model. Remember to early stop when the validation accuracy does not improve for continous N number of epochs where N is a hyperparameter. Set N = 10\n",
        "    val_accuracy = evaluate(val_dataloader)\n",
        "    print(f\"Accuracy for validation is {val_accuracy}\")\n",
        "    if ACC >= val_accuracy:\n",
        "      counter += 1\n",
        "      print(counter)\n",
        "      if counter == N:\n",
        "        break;\n",
        "    else:\n",
        "      ACC = val_accuracy\n",
        "      counter = 0"
      ],
      "execution_count": null,
      "outputs": [
        {
          "output_type": "stream",
          "name": "stdout",
          "text": [
            "| epoch   1 |    50/  196 batches | accuracy    0.506\n",
            "| epoch   1 |   100/  196 batches | accuracy    0.506\n",
            "| epoch   1 |   150/  196 batches | accuracy    0.529\n",
            "Accuracy for validation is 63.90474666666667\n",
            "| epoch   2 |    50/  196 batches | accuracy    0.561\n",
            "| epoch   2 |   100/  196 batches | accuracy    0.578\n",
            "| epoch   2 |   150/  196 batches | accuracy    0.594\n",
            "Accuracy for validation is 63.90474666666667\n",
            "1\n",
            "| epoch   3 |    50/  196 batches | accuracy    0.621\n",
            "| epoch   3 |   100/  196 batches | accuracy    0.637\n",
            "| epoch   3 |   150/  196 batches | accuracy    0.643\n",
            "Accuracy for validation is 63.887146666666666\n",
            "2\n",
            "| epoch   4 |    50/  196 batches | accuracy    0.662\n",
            "| epoch   4 |   100/  196 batches | accuracy    0.665\n",
            "| epoch   4 |   150/  196 batches | accuracy    0.682\n",
            "Accuracy for validation is 63.88010666666667\n",
            "3\n",
            "| epoch   5 |    50/  196 batches | accuracy    0.696\n",
            "| epoch   5 |   100/  196 batches | accuracy    0.700\n",
            "| epoch   5 |   150/  196 batches | accuracy    0.701\n",
            "Accuracy for validation is 63.89418666666667\n",
            "4\n",
            "| epoch   6 |    50/  196 batches | accuracy    0.715\n",
            "| epoch   6 |   100/  196 batches | accuracy    0.707\n",
            "| epoch   6 |   150/  196 batches | accuracy    0.720\n",
            "Accuracy for validation is 63.883626666666665\n",
            "5\n",
            "| epoch   7 |    50/  196 batches | accuracy    0.722\n",
            "| epoch   7 |   100/  196 batches | accuracy    0.738\n",
            "| epoch   7 |   150/  196 batches | accuracy    0.741\n",
            "Accuracy for validation is 63.88010666666667\n",
            "6\n",
            "| epoch   8 |    50/  196 batches | accuracy    0.737\n",
            "| epoch   8 |   100/  196 batches | accuracy    0.755\n",
            "| epoch   8 |   150/  196 batches | accuracy    0.753\n",
            "Accuracy for validation is 63.911786666666664\n",
            "| epoch   9 |    50/  196 batches | accuracy    0.754\n",
            "| epoch   9 |   100/  196 batches | accuracy    0.763\n",
            "| epoch   9 |   150/  196 batches | accuracy    0.771\n",
            "Accuracy for validation is 63.915306666666666\n",
            "| epoch  10 |    50/  196 batches | accuracy    0.770\n",
            "| epoch  10 |   100/  196 batches | accuracy    0.771\n",
            "| epoch  10 |   150/  196 batches | accuracy    0.787\n",
            "Accuracy for validation is 63.90826666666667\n",
            "1\n",
            "| epoch  11 |    50/  196 batches | accuracy    0.781\n",
            "| epoch  11 |   100/  196 batches | accuracy    0.795\n",
            "| epoch  11 |   150/  196 batches | accuracy    0.790\n",
            "Accuracy for validation is 63.89418666666667\n",
            "2\n",
            "| epoch  12 |    50/  196 batches | accuracy    0.796\n",
            "| epoch  12 |   100/  196 batches | accuracy    0.804\n",
            "| epoch  12 |   150/  196 batches | accuracy    0.800\n",
            "Accuracy for validation is 63.887146666666666\n",
            "3\n",
            "| epoch  13 |    50/  196 batches | accuracy    0.811\n",
            "| epoch  13 |   100/  196 batches | accuracy    0.805\n",
            "| epoch  13 |   150/  196 batches | accuracy    0.817\n",
            "Accuracy for validation is 63.90474666666667\n",
            "4\n",
            "| epoch  14 |    50/  196 batches | accuracy    0.826\n",
            "| epoch  14 |   100/  196 batches | accuracy    0.825\n",
            "| epoch  14 |   150/  196 batches | accuracy    0.815\n",
            "Accuracy for validation is 63.91882666666667\n",
            "| epoch  15 |    50/  196 batches | accuracy    0.829\n",
            "| epoch  15 |   100/  196 batches | accuracy    0.835\n",
            "| epoch  15 |   150/  196 batches | accuracy    0.830\n",
            "Accuracy for validation is 63.911786666666664\n",
            "1\n",
            "| epoch  16 |    50/  196 batches | accuracy    0.829\n",
            "| epoch  16 |   100/  196 batches | accuracy    0.837\n",
            "| epoch  16 |   150/  196 batches | accuracy    0.849\n",
            "Accuracy for validation is 63.883626666666665\n",
            "2\n",
            "| epoch  17 |    50/  196 batches | accuracy    0.848\n",
            "| epoch  17 |   100/  196 batches | accuracy    0.849\n",
            "| epoch  17 |   150/  196 batches | accuracy    0.838\n",
            "Accuracy for validation is 63.883626666666665\n",
            "3\n",
            "| epoch  18 |    50/  196 batches | accuracy    0.854\n",
            "| epoch  18 |   100/  196 batches | accuracy    0.859\n",
            "| epoch  18 |   150/  196 batches | accuracy    0.848\n",
            "Accuracy for validation is 63.90826666666667\n",
            "4\n",
            "| epoch  19 |    50/  196 batches | accuracy    0.861\n",
            "| epoch  19 |   100/  196 batches | accuracy    0.856\n",
            "| epoch  19 |   150/  196 batches | accuracy    0.858\n",
            "Accuracy for validation is 63.89066666666667\n",
            "5\n",
            "| epoch  20 |    50/  196 batches | accuracy    0.859\n",
            "| epoch  20 |   100/  196 batches | accuracy    0.862\n",
            "| epoch  20 |   150/  196 batches | accuracy    0.860\n",
            "Accuracy for validation is 63.883626666666665\n",
            "6\n",
            "| epoch  21 |    50/  196 batches | accuracy    0.869\n",
            "| epoch  21 |   100/  196 batches | accuracy    0.868\n",
            "| epoch  21 |   150/  196 batches | accuracy    0.862\n",
            "Accuracy for validation is 63.93290666666667\n",
            "| epoch  22 |    50/  196 batches | accuracy    0.871\n",
            "| epoch  22 |   100/  196 batches | accuracy    0.869\n",
            "| epoch  22 |   150/  196 batches | accuracy    0.876\n",
            "Accuracy for validation is 63.89066666666667\n",
            "1\n",
            "| epoch  23 |    50/  196 batches | accuracy    0.880\n",
            "| epoch  23 |   100/  196 batches | accuracy    0.875\n",
            "| epoch  23 |   150/  196 batches | accuracy    0.875\n",
            "Accuracy for validation is 63.88010666666667\n",
            "2\n",
            "| epoch  24 |    50/  196 batches | accuracy    0.878\n",
            "| epoch  24 |   100/  196 batches | accuracy    0.879\n",
            "| epoch  24 |   150/  196 batches | accuracy    0.882\n",
            "Accuracy for validation is 63.887146666666666\n",
            "3\n",
            "| epoch  25 |    50/  196 batches | accuracy    0.877\n",
            "| epoch  25 |   100/  196 batches | accuracy    0.882\n",
            "| epoch  25 |   150/  196 batches | accuracy    0.887\n",
            "Accuracy for validation is 63.897706666666664\n",
            "4\n",
            "| epoch  26 |    50/  196 batches | accuracy    0.887\n",
            "| epoch  26 |   100/  196 batches | accuracy    0.885\n",
            "| epoch  26 |   150/  196 batches | accuracy    0.887\n",
            "Accuracy for validation is 63.915306666666666\n",
            "5\n",
            "| epoch  27 |    50/  196 batches | accuracy    0.888\n",
            "| epoch  27 |   100/  196 batches | accuracy    0.885\n",
            "| epoch  27 |   150/  196 batches | accuracy    0.891\n",
            "Accuracy for validation is 63.901226666666666\n",
            "6\n",
            "| epoch  28 |    50/  196 batches | accuracy    0.883\n",
            "| epoch  28 |   100/  196 batches | accuracy    0.898\n",
            "| epoch  28 |   150/  196 batches | accuracy    0.890\n",
            "Accuracy for validation is 63.86602666666667\n",
            "7\n",
            "| epoch  29 |    50/  196 batches | accuracy    0.898\n"
          ]
        }
      ]
    },
    {
      "cell_type": "code",
      "metadata": {
        "id": "IPYeeVPTNCtc",
        "colab": {
          "base_uri": "https://localhost:8080/"
        },
        "outputId": "e6ee8a15-0c01-436b-eee3-1c5a79707458"
      },
      "source": [
        "accu_test = evaluate(test_dataloader)\n",
        "print('test accuracy {:8.2f}%'.format(accu_test))"
      ],
      "execution_count": 22,
      "outputs": [
        {
          "output_type": "stream",
          "name": "stdout",
          "text": [
            "test accuracy    63.80%\n"
          ]
        }
      ]
    }
  ]
}
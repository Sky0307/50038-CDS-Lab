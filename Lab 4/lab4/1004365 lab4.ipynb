{
 "cells": [
  {
   "cell_type": "markdown",
   "metadata": {},
   "source": [
    "# Done by Lee Jet Xuen"
   ]
  },
  {
   "cell_type": "code",
   "execution_count": 1,
   "metadata": {},
   "outputs": [],
   "source": [
    "import os\n",
    "import numpy as np\n",
    "import pandas as pd\n",
    "from sklearn.svm import SVC\n",
    "from sklearn.linear_model import LinearRegression\n",
    "from sklearn.preprocessing import FunctionTransformer\n",
    "from sklearn.pipeline import Pipeline\n",
    "from sklearn.model_selection import train_test_split\n",
    "from sklearn.feature_selection import SelectPercentile, f_regression\n",
    "from sklearn.metrics import mean_squared_error\n",
    "from sklearn.feature_extraction.text import CountVectorizer\n",
    "import matplotlib.pyplot as plt\n",
    "\n"
   ]
  },
  {
   "cell_type": "code",
   "execution_count": 2,
   "metadata": {},
   "outputs": [],
   "source": [
    "datapath = os.path.join('data.csv')\n",
    "data = pd.read_csv(datapath,\n",
    "                    names=['X', 'Y'],\n",
    "                    header=None,\n",
    "                    dtype=np.float64)\n",
    "data = data.to_numpy()\n",
    "X = data[:, 0:1]\n",
    "Y = data[:, 1:]\n",
    "n = len(X)\n",
    "\n",
    "Y_average = Y / n\n",
    "X_average = X / n\n"
   ]
  },
  {
   "cell_type": "markdown",
   "metadata": {},
   "source": [
    "## Exercise 1a. Normal Equation"
   ]
  },
  {
   "cell_type": "code",
   "execution_count": 3,
   "metadata": {},
   "outputs": [],
   "source": [
    "def plot_linear_regression(x, y, y_pred, title):\n",
    "    plt.scatter(x, y, label='actual y')\n",
    "    plt.plot(x, y_pred, 'r', label='predicted y')\n",
    "    plt.xlabel('X values')\n",
    "    plt.ylabel('Y values')\n",
    "    plt.title(title)\n",
    "    plt.legend()\n",
    "    plt.show()"
   ]
  },
  {
   "cell_type": "code",
   "execution_count": 4,
   "metadata": {},
   "outputs": [
    {
     "data": {
      "image/png": "[encoded data removed]",
      "text/plain": [
       "<Figure size 432x288 with 1 Axes>"
      ]
     },
     "metadata": {
      "needs_background": "light"
     },
     "output_type": "display_data"
    },
    {
     "name": "stdout",
     "output_type": "stream",
     "text": [
      "A: [[-0.1637988 ]\n",
      " [-0.10266812]\n",
      " [-0.2847115 ]\n",
      " [ 0.01306911]\n",
      " [-0.01262101]\n",
      " [-0.03370783]\n",
      " [ 0.02395156]\n",
      " [ 0.01028184]\n",
      " [ 0.04160327]\n",
      " [-0.06446327]\n",
      " [-0.12032347]\n",
      " [ 0.02066161]\n",
      " [-0.03331334]\n",
      " [-0.10666784]\n",
      " [-0.02491129]\n",
      " [-0.11706132]\n",
      " [ 0.16778256]\n",
      " [ 0.08170621]\n",
      " [-0.18645161]\n",
      " [-0.0055187 ]\n",
      " [-0.14048589]\n",
      " [ 0.21808841]\n",
      " [-0.12996141]\n",
      " [-0.10118992]\n",
      " [-0.0132377 ]\n",
      " [-0.13072957]\n",
      " [ 0.10665492]\n",
      " [ 0.01110797]\n",
      " [ 0.09904578]\n",
      " [ 0.08633864]\n",
      " [-0.13906075]\n",
      " [-0.11209354]\n",
      " [ 0.1383301 ]\n",
      " [ 0.10715727]\n",
      " [-0.10993109]\n",
      " [-0.00640654]\n",
      " [-0.13806343]\n",
      " [ 0.01757605]\n",
      " [ 0.08217869]\n",
      " [ 0.05069502]\n",
      " [-0.13236581]\n",
      " [-0.05519129]\n",
      " [ 0.08823277]\n",
      " [-0.03481411]\n",
      " [ 0.22040027]\n",
      " [-0.02762926]\n",
      " [-0.0534246 ]\n",
      " [ 0.08730676]\n",
      " [ 0.02623736]\n",
      " [-0.02157428]\n",
      " [ 0.23768387]\n",
      " [-0.00739336]\n",
      " [ 0.05495701]\n",
      " [ 0.03555575]\n",
      " [-0.02150469]\n",
      " [-0.10347749]\n",
      " [ 0.17884908]\n",
      " [-0.05939724]\n",
      " [ 0.11946052]\n",
      " [-0.0145215 ]\n",
      " [ 0.00755668]\n",
      " [-0.04402643]\n",
      " [ 0.08604918]\n",
      " [-0.15066096]\n",
      " [ 0.20122685]\n",
      " [-0.13663018]\n",
      " [ 0.02453734]\n",
      " [ 0.1067012 ]\n",
      " [-0.18915749]\n",
      " [-0.00063638]\n",
      " [ 0.03658376]\n",
      " [-0.15748399]\n",
      " [ 0.03181373]\n",
      " [-0.05965064]\n",
      " [ 0.00180805]\n",
      " [ 0.20815297]\n",
      " [ 0.06409412]\n",
      " [ 0.00593992]\n",
      " [-0.03013572]\n",
      " [-0.12786056]\n",
      " [-0.03977239]\n",
      " [-0.00994204]\n",
      " [ 0.04927984]\n",
      " [-0.09729303]\n",
      " [ 0.13554331]\n",
      " [-0.01189501]\n",
      " [-0.05996338]\n",
      " [-0.04882436]\n",
      " [ 0.08276747]\n",
      " [ 0.05138176]\n",
      " [ 0.18435554]\n",
      " [ 0.06231974]\n",
      " [ 0.13115674]\n",
      " [ 0.21725332]\n",
      " [-0.03157971]\n",
      " [ 0.07517862]\n",
      " [-0.00737894]\n",
      " [ 0.11198969]\n",
      " [-0.05012264]\n",
      " [ 0.16277059]]\n",
      "B: [[1.47948973]]\n"
     ]
    }
   ],
   "source": [
    "B = (X.T.dot(Y) - Y_average.T.dot(X)) / (X.T.dot(X) - X_average.T.dot(X))\n",
    "A = Y_average - X_average.dot(B)\n",
    "Y_pred = A + X.dot(B)\n",
    "\n",
    "plot_linear_regression(X, Y, Y_pred, \"Linear Regression with normal Equation\")\n",
    "print(f\"A: {A}\")\n",
    "print(f\"B: {B}\")"
   ]
  },
  {
   "cell_type": "markdown",
   "metadata": {},
   "source": [
    "## Exercise 1b Gradient Descent"
   ]
  },
  {
   "cell_type": "code",
   "execution_count": 5,
   "metadata": {},
   "outputs": [],
   "source": [
    "l = 0.0001\n",
    "epochs = 100\n",
    "m = np.zeros((1))\n",
    "c = np.zeros(1)\n"
   ]
  },
  {
   "cell_type": "code",
   "execution_count": 6,
   "metadata": {},
   "outputs": [
    {
     "name": "stdout",
     "output_type": "stream",
     "text": [
      "D_c: [-0.6004989]\n",
      "m: [1.47880272], c: [0.03507497]\n"
     ]
    }
   ],
   "source": [
    "for i in range(epochs):\n",
    "    y_pred = m * X + c\n",
    "    D_m = (-2/n) * sum(X.T.dot((Y - y_pred)))\n",
    "    D_c = (-2/n) * sum(Y - y_pred)\n",
    "    m = m - l * D_m\n",
    "    c = c - l * D_c\n",
    "\n",
    "print(f\"D_c: {D_c}\")\n",
    "print(f\"m: {m}, c: {c}\")\n",
    "y_pred = m * X + c"
   ]
  },
  {
   "cell_type": "code",
   "execution_count": 7,
   "metadata": {},
   "outputs": [
    {
     "data": {
      "image/png": "[encoded data removed]",
      "text/plain": [
       "<Figure size 432x288 with 1 Axes>"
      ]
     },
     "metadata": {
      "needs_background": "light"
     },
     "output_type": "display_data"
    }
   ],
   "source": [
    "plot_linear_regression(X, Y, y_pred, \"Linear Regression using Gradient Descent\")"
   ]
  },
  {
   "cell_type": "markdown",
   "metadata": {},
   "source": [
    "## Exercise 2 "
   ]
  },
  {
   "cell_type": "code",
   "execution_count": 8,
   "metadata": {},
   "outputs": [],
   "source": [
    "datapath = os.path.join('chicago_hotel_reviews.csv')\n",
    "data = pd.read_csv(datapath,\n",
    "                   index_col=0,\n",
    "                   delimiter=',')\n",
    "\n",
    "rating = data.rating\n",
    "\n",
    "#x_train, x_test, y_train, y_test = train_test_split(data, rating, test_size=0.2, random_state=0)\n",
    "x_train, x_test, y_train, y_test = train_test_split(data, rating, test_size=0.2)\n",
    "\n",
    "review = FunctionTransformer(lambda x: x['review'], validate = False) #extract reviews\n",
    "\n",
    "cv = CountVectorizer(stop_words='english', lowercase=True, ngram_range=(1,2))\n",
    "\n",
    "linearReg = LinearRegression()"
   ]
  },
  {
   "cell_type": "markdown",
   "metadata": {},
   "source": [
    "## Without feature selection"
   ]
  },
  {
   "cell_type": "code",
   "execution_count": 9,
   "metadata": {},
   "outputs": [
    {
     "name": "stdout",
     "output_type": "stream",
     "text": [
      "[Pipeline] ............ (step 1 of 3) Processing review, total=   0.0s\n",
      "[Pipeline] ............ (step 2 of 3) Processing vector, total=   0.1s\n",
      "[Pipeline] ........ (step 3 of 3) Processing classifier, total=   0.0s\n",
      "mean square error: 1.311626109708073\n"
     ]
    }
   ],
   "source": [
    "steps = [('review', review), ('vector', cv), ('classifier', linearReg)]\n",
    "pipeline = Pipeline(steps,verbose=True)\n",
    "\n",
    "pipeline.fit(x_train, y_train)\n",
    "\n",
    "predicted = pipeline.predict(x_test)\n",
    "\n",
    "print(f\"mean square error: {mean_squared_error(y_test, predicted)}\")"
   ]
  },
  {
   "cell_type": "markdown",
   "metadata": {},
   "source": [
    "## With feature selection"
   ]
  },
  {
   "cell_type": "code",
   "execution_count": 10,
   "metadata": {},
   "outputs": [
    {
     "name": "stdout",
     "output_type": "stream",
     "text": [
      "mean square error: 0.9505936217748454\n"
     ]
    }
   ],
   "source": [
    "newFea = SelectPercentile(f_regression, percentile=6)\n",
    "\n",
    "pipeline = Pipeline([('text', review), ('vect', cv), \n",
    "                   ('feaSelect', newFea), ('clf', linearReg)])\n",
    "\n",
    "pipeline.fit(x_train, y_train)\n",
    "predicted = pipeline.predict(x_test)\n",
    "\n",
    "print(f\"mean square error: {mean_squared_error(y_test, predicted)}\")"
   ]
  },
  {
   "cell_type": "code",
   "execution_count": null,
   "metadata": {},
   "outputs": [],
   "source": []
  }
 ],
 "metadata": {
  "interpreter": {
   "hash": "b49b73f667a51fd3bce7adb30aaad7abb6aeb0332e2031ca3901461ffc07a977"
  },
  "kernelspec": {
   "display_name": "Python 3.8.10 64-bit ('data-sci': virtualenv)",
   "name": "python3"
  },
  "language_info": {
   "codemirror_mode": {
    "name": "ipython",
    "version": 3
   },
   "file_extension": ".py",
   "mimetype": "text/x-python",
   "name": "python",
   "nbconvert_exporter": "python",
   "pygments_lexer": "ipython3",
   "version": "3.8.10"
  },
  "orig_nbformat": 4
 },
 "nbformat": 4,
 "nbformat_minor": 2
}
